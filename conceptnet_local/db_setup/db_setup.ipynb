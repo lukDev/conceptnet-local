{
 "cells": [
  {
   "metadata": {},
   "cell_type": "markdown",
   "source": [
    "# Database Setup\n",
    "\n",
    "This notebook can be used to set up the local CN database.\n",
    "\n",
    "### Data\n",
    "\n",
    "Use the following links to download the relevant data and store it in the ```data``` directory:\n",
    "\n",
    "- Relations: https://github.com/commonsense/conceptnet5/wiki/Downloads\n",
    "- Embeddings: https://github.com/commonsense/conceptnet-numberbatch (deprecated)\n",
    "- FastText model: https://fasttext.cc/docs/en/english-vectors.html\n",
    "\n",
    "You may also store the files in a different directory.\n",
    "If you do, please be advised that you will need to adjust the ```DATA_PATH``` value in the next step.\n",
    "\n",
    "### Environment Variables\n",
    "\n",
    "Set the following environment variables, e.g. by creating a ```.env``` file from the ```.env.example``` file and filling in the values:\n",
    "\n",
    "- DB_PATH\n",
    "- DATA_PATH\n",
    "\n",
    "### Requirements\n",
    "\n",
    "Run ```pip install -r requirements-dev.txt``` in order to install the packages necessary for running this notebook.\n",
    "\n",
    "### Run\n",
    "\n",
    "Run all cells in this notebook in order to create a local ConceptNet database.\n",
    "\n",
    "This may take a while."
   ],
   "id": "1b6c179699bd0c41"
  },
  {
   "cell_type": "code",
   "id": "d2563fb0bc5aa0fb",
   "metadata": {
    "collapsed": true,
    "ExecuteTime": {
     "end_time": "2024-12-17T17:42:35.602205Z",
     "start_time": "2024-12-17T17:42:35.591688Z"
    }
   },
   "source": [
    "import json\n",
    "import os\n",
    "from pathlib import Path\n",
    "\n",
    "import fasttext\n",
    "from tqdm.notebook import tqdm\n",
    "\n",
    "import numpy as np\n",
    "import sqlite3\n",
    "\n",
    "from conceptnet_local._cn_service import _db_adapt_array, _db_convert_array, get_all_edges\n",
    "\n",
    "from dotenv import load_dotenv\n",
    "load_dotenv()"
   ],
   "outputs": [
    {
     "data": {
      "text/plain": [
       "True"
      ]
     },
     "execution_count": 12,
     "metadata": {},
     "output_type": "execute_result"
    }
   ],
   "execution_count": 12
  },
  {
   "metadata": {},
   "cell_type": "markdown",
   "source": "## Database",
   "id": "92d68d60daddb783"
  },
  {
   "metadata": {
    "ExecuteTime": {
     "end_time": "2024-12-17T17:33:05.357429Z",
     "start_time": "2024-12-17T17:33:05.354573Z"
    }
   },
   "cell_type": "code",
   "source": [
    "sqlite3.register_adapter(np.ndarray, _db_adapt_array)\n",
    "sqlite3.register_converter(\"ARRAY\", _db_convert_array)"
   ],
   "id": "99aa5b43314a9337",
   "outputs": [],
   "execution_count": 2
  },
  {
   "metadata": {
    "ExecuteTime": {
     "end_time": "2024-12-17T17:33:06.177628Z",
     "start_time": "2024-12-17T17:33:06.173113Z"
    }
   },
   "cell_type": "code",
   "source": [
    "db_connection = sqlite3.connect(os.environ[\"DB_PATH\"], detect_types=sqlite3.PARSE_DECLTYPES)\n",
    "db_cursor = db_connection.cursor()"
   ],
   "id": "4fc2622e19aa975a",
   "outputs": [],
   "execution_count": 3
  },
  {
   "metadata": {},
   "cell_type": "markdown",
   "source": "## Relations",
   "id": "ac0c624945c50160"
  },
  {
   "metadata": {
    "ExecuteTime": {
     "end_time": "2024-12-17T17:33:17.721268Z",
     "start_time": "2024-12-17T17:33:17.714718Z"
    }
   },
   "cell_type": "code",
   "source": [
    "data_dir = os.environ[\"DATA_PATH\"]\n",
    "\n",
    "en_relations_file = Path(f\"{data_dir}/en-relations-raw.csv\")\n",
    "if not en_relations_file.is_file():\n",
    "    with open(\"../data/conceptnet-assertions-5.7.0.csv\", \"r\") as origin_file:\n",
    "        with open(\"../data/en-relations-raw.csv\", \"w\") as output_file:\n",
    "            for line in tqdm(origin_file):\n",
    "                parts = line.split(\"\\t\")\n",
    "                if parts[2].startswith(\"/c/en/\") and parts[3].startswith(\"/c/en/\"):\n",
    "                    output_file.write(line)"
   ],
   "id": "initial_id",
   "outputs": [],
   "execution_count": 4
  },
  {
   "metadata": {
    "ExecuteTime": {
     "end_time": "2024-12-17T17:33:22.007584Z",
     "start_time": "2024-12-17T17:33:22.004254Z"
    }
   },
   "cell_type": "code",
   "source": [
    "def get_cn_id_without_subs(cn_id: str) -> str:\n",
    "    \"\"\"Remove the sub-categories from the given CN ID.\"\"\"\n",
    "    split_by_slash = cn_id.split(\"/\")  # assumed shape: /c/<lang>/<concept>[/<sub-categories>]\n",
    "    if len(split_by_slash) > 4:\n",
    "        split_by_slash = split_by_slash[:4]\n",
    "    return \"/\".join(split_by_slash)"
   ],
   "id": "4c55f93c3459df1f",
   "outputs": [],
   "execution_count": 6
  },
  {
   "metadata": {
    "ExecuteTime": {
     "end_time": "2024-12-17T17:35:32.417978Z",
     "start_time": "2024-12-17T17:35:31.475337Z"
    }
   },
   "cell_type": "code",
   "outputs": [
    {
     "data": {
      "text/plain": [
       "3423004"
      ]
     },
     "execution_count": 8,
     "metadata": {},
     "output_type": "execute_result"
    }
   ],
   "execution_count": 8,
   "source": [
    "with open(f\"{data_dir}/en-relations-raw.csv\", \"r\") as f:\n",
    "    num_relations = sum(1 for _ in f)"
   ],
   "id": "973502a512823ab9"
  },
  {
   "metadata": {
    "ExecuteTime": {
     "end_time": "2024-12-17T17:40:09.627287Z",
     "start_time": "2024-12-17T17:39:32.148489Z"
    }
   },
   "cell_type": "code",
   "source": [
    "db_cursor.execute(\"DROP TABLE IF EXISTS relations;\")\n",
    "db_cursor.execute(\"\"\"\n",
    "CREATE TABLE relations(\n",
    "    id      TEXT    NOT NULL,\n",
    "    start   TEXT    NOT NULL,\n",
    "    end     TEXT    NOT NULL,\n",
    "    rel     TEXT    NOT NULL,\n",
    "    weight  REAL    NOT NULL\n",
    ");\n",
    "\"\"\")\n",
    "db_cursor.execute(\"CREATE INDEX index_relations_start ON relations(start);\")\n",
    "db_cursor.execute(\"CREATE INDEX index_relations_end ON relations(end);\")\n",
    "\n",
    "with open(f\"{data_dir}/en-relations-raw.csv\", \"r\") as raw_file:\n",
    "    for line in tqdm(raw_file, total=num_relations):\n",
    "        try:\n",
    "            a_id, rel, start, end, data = line.split(\"\\t\")\n",
    "            start = get_cn_id_without_subs(cn_id=start)\n",
    "            end = get_cn_id_without_subs(cn_id=end)\n",
    "            weight = json.loads(data)[\"weight\"]\n",
    "            db_cursor.execute(\"INSERT INTO relations VALUES (?, ?, ?, ?, ?)\", (a_id, start, end, rel, weight))\n",
    "        except Exception as e:\n",
    "            print(line)\n",
    "            raise e\n",
    "        \n",
    "db_connection.commit()"
   ],
   "id": "4dbcc62e4ab9928",
   "outputs": [
    {
     "data": {
      "text/plain": [
       "  0%|          | 0/3423004 [00:00<?, ?it/s]"
      ],
      "application/vnd.jupyter.widget-view+json": {
       "version_major": 2,
       "version_minor": 0,
       "model_id": "08ca495b102f48788b43c45a19330fc5"
      }
     },
     "metadata": {},
     "output_type": "display_data"
    }
   ],
   "execution_count": 11
  },
  {
   "metadata": {},
   "cell_type": "markdown",
   "source": "## Concepts",
   "id": "29be903f0e52274f"
  },
  {
   "metadata": {
    "ExecuteTime": {
     "end_time": "2024-12-17T17:36:38.166178Z",
     "start_time": "2024-12-17T17:36:35.194317Z"
    }
   },
   "cell_type": "code",
   "source": [
    "statement = db_cursor.execute(\n",
    "    \"SELECT DISTINCT start from relations\",\n",
    ")\n",
    "result_start = statement.fetchall()\n",
    "\n",
    "statement = db_cursor.execute(\n",
    "    \"SELECT DISTINCT end from relations\",\n",
    ")\n",
    "result_end = statement.fetchall()\n",
    "\n",
    "all_concepts = {c[0] for c in result_start}.union({c[0] for c in result_end})\n",
    "all_concepts = list(all_concepts)\n",
    "all_concepts.sort()"
   ],
   "id": "58604ffa3af2cb8e",
   "outputs": [],
   "execution_count": 10
  },
  {
   "metadata": {
    "ExecuteTime": {
     "end_time": "2024-12-17T17:52:53.918392Z",
     "start_time": "2024-12-17T17:43:06.545878Z"
    }
   },
   "cell_type": "code",
   "source": [
    "db_cursor.execute(\"DROP TABLE IF EXISTS concepts;\")\n",
    "db_cursor.execute(\"\"\"\n",
    "CREATE TABLE concepts (\n",
    "    id      TEXT    NOT NULL,\n",
    "    degree  INTEGER NOT NULL\n",
    ");\n",
    "\"\"\")\n",
    "db_cursor.execute(\"CREATE INDEX index_concepts ON concepts(id);\")\n",
    "\n",
    "for concept in tqdm(all_concepts):\n",
    "    edges = get_all_edges(cn_id=concept, db_cursor=db_cursor)\n",
    "    degree = len(edges)\n",
    "    \n",
    "    db_cursor.execute(\"INSERT INTO concepts VALUES (?, ?)\", (concept, degree))\n",
    "    db_connection.commit()"
   ],
   "id": "29388599e99cdbaa",
   "outputs": [
    {
     "data": {
      "text/plain": [
       "  0%|          | 0/1165190 [00:00<?, ?it/s]"
      ],
      "application/vnd.jupyter.widget-view+json": {
       "version_major": 2,
       "version_minor": 0,
       "model_id": "518f14f2380c4feb8fcd876632645640"
      }
     },
     "metadata": {},
     "output_type": "display_data"
    }
   ],
   "execution_count": 13
  },
  {
   "metadata": {},
   "cell_type": "markdown",
   "source": "## Embeddings",
   "id": "17e1828091ec28e2"
  },
  {
   "metadata": {
    "ExecuteTime": {
     "end_time": "2024-12-17T17:54:18.338675Z",
     "start_time": "2024-12-17T17:54:13.533914Z"
    }
   },
   "cell_type": "code",
   "source": [
    "fasttext_path = os.environ[\"FASTTEXT_PATH\"]\n",
    "fasttext_model = fasttext.load_model(fasttext_path)"
   ],
   "id": "2b0e3751bb3b7033",
   "outputs": [],
   "execution_count": 14
  },
  {
   "metadata": {
    "ExecuteTime": {
     "end_time": "2024-12-17T17:54:19.922249Z",
     "start_time": "2024-12-17T17:54:19.915364Z"
    }
   },
   "cell_type": "code",
   "source": "lang_prefix = \"/c/en/\"",
   "id": "c90b5c1ade13006b",
   "outputs": [],
   "execution_count": 15
  },
  {
   "metadata": {
    "ExecuteTime": {
     "end_time": "2024-12-17T17:55:52.958749Z",
     "start_time": "2024-12-17T17:55:31.820366Z"
    }
   },
   "cell_type": "code",
   "source": [
    "db_cursor.execute(\"DROP TABLE IF EXISTS embeddings;\")\n",
    "db_cursor.execute(\"\"\"\n",
    "CREATE TABLE embeddings(\n",
    "    concept_id  TEXT    NOT NULL,\n",
    "    embedding   ARRAY   NOT NULL\n",
    ");\n",
    "\"\"\")\n",
    "db_cursor.execute(\"CREATE UNIQUE INDEX index_embeddings_id ON embeddings(concept_id)\")\n",
    "\n",
    "for concept in tqdm(all_concepts):\n",
    "    concept_natural = concept.replace(lang_prefix, \"\").replace(\"_\", \" \")\n",
    "    embedding = fasttext_model.get_sentence_vector(text=concept_natural)\n",
    "    \n",
    "    db_cursor.execute(\"INSERT INTO embeddings VALUES (?, ?)\", (concept, embedding))\n",
    "\n",
    "db_connection.commit()"
   ],
   "id": "d4d211671641d314",
   "outputs": [
    {
     "data": {
      "text/plain": [
       "  0%|          | 0/1165190 [00:00<?, ?it/s]"
      ],
      "application/vnd.jupyter.widget-view+json": {
       "version_major": 2,
       "version_minor": 0,
       "model_id": "fbf1b3c71daa423b84331d4f7eade147"
      }
     },
     "metadata": {},
     "output_type": "display_data"
    }
   ],
   "execution_count": 16
  },
  {
   "metadata": {},
   "cell_type": "markdown",
   "source": "## Cleanup",
   "id": "16dc6da40bd2eed3"
  },
  {
   "metadata": {
    "ExecuteTime": {
     "end_time": "2024-12-17T17:56:12.867169Z",
     "start_time": "2024-12-17T17:56:12.861696Z"
    }
   },
   "cell_type": "code",
   "source": "db_connection.close()",
   "id": "e93a5560e7c59345",
   "outputs": [],
   "execution_count": 17
  }
 ],
 "metadata": {
  "kernelspec": {
   "display_name": "Python 3",
   "language": "python",
   "name": "python3"
  },
  "language_info": {
   "codemirror_mode": {
    "name": "ipython",
    "version": 2
   },
   "file_extension": ".py",
   "mimetype": "text/x-python",
   "name": "python",
   "nbconvert_exporter": "python",
   "pygments_lexer": "ipython2",
   "version": "2.7.6"
  }
 },
 "nbformat": 4,
 "nbformat_minor": 5
}
